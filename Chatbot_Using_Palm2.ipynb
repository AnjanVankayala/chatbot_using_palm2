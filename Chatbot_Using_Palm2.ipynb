{
  "nbformat": 4,
  "nbformat_minor": 0,
  "metadata": {
    "colab": {
      "provenance": [],
      "include_colab_link": true
    },
    "kernelspec": {
      "name": "python3",
      "display_name": "Python 3"
    },
    "language_info": {
      "name": "python"
    }
  },
  "cells": [
    {
      "cell_type": "markdown",
      "metadata": {
        "id": "view-in-github",
        "colab_type": "text"
      },
      "source": [
        "<a href=\"https://colab.research.google.com/github/AnjanVankayala/chatbot_using_palm2/blob/main/Chatbot_Using_Palm2.ipynb\" target=\"_parent\"><img src=\"https://colab.research.google.com/assets/colab-badge.svg\" alt=\"Open In Colab\"/></a>"
      ]
    },
    {
      "cell_type": "code",
      "execution_count": null,
      "metadata": {
        "id": "iAguqk3bIdgQ"
      },
      "outputs": [],
      "source": [
        "!pip install -q google-generativeai\n",
        "!pip install gradio"
      ]
    },
    {
      "cell_type": "code",
      "source": [
        "import google.generativeai as palm\n",
        "import gradio as gr\n",
        "from google.colab import userdata\n"
      ],
      "metadata": {
        "id": "SlZRrEtLIyNc"
      },
      "execution_count": null,
      "outputs": []
    },
    {
      "cell_type": "code",
      "source": [
        "palm.configure(api_key=userdata.get('API_KEY'))\n"
      ],
      "metadata": {
        "id": "W4niKVzMI2wm"
      },
      "execution_count": null,
      "outputs": []
    },
    {
      "cell_type": "code",
      "source": [
        "models = [m for m in palm.list_models() if 'generateText' in m.supported_generation_methods]\n",
        "model = models[0].name"
      ],
      "metadata": {
        "id": "_mi8UkkvETaG"
      },
      "execution_count": null,
      "outputs": []
    },
    {
      "cell_type": "code",
      "source": [
        "#def get_text_response(user_message,history):\n",
        "  #  response = palm.chat(messages=user_message)\n",
        "  #  return response.last\n",
        "\n",
        "#demo = gr.ChatInterface(get_text_response, examples=[\"How are you doing?\",\"What are your interests?\",\"Which places do you like to visit?\"])"
      ],
      "metadata": {
        "id": "ZAeVX7ZHJRm1"
      },
      "execution_count": null,
      "outputs": []
    },
    {
      "cell_type": "code",
      "source": [
        "def get_text_response(user_message,history):\n",
        "  completion = palm.generate_text(\n",
        "    model=model,\n",
        "    prompt=user_message,\n",
        "    temperature=0.25,\n",
        "    # temperature=0 >> more deterministic results // temperature=1 >> more randomness\n",
        "    max_output_tokens=100\n",
        "    # maximum length of response\n",
        ")\n",
        "  return completion.result\n",
        "\n",
        "demo = gr.ChatInterface(get_text_response, examples=[\"How are you doing?\",\"What are your interests?\",\"Which places do you like to visit?\"])"
      ],
      "metadata": {
        "id": "Au6hC9fckS5M"
      },
      "execution_count": null,
      "outputs": []
    },
    {
      "cell_type": "code",
      "source": [
        "if __name__ == \"__main__\":\n",
        "  demo.launch()"
      ],
      "metadata": {
        "id": "MgFM5ZbJL07l"
      },
      "execution_count": null,
      "outputs": []
    }
  ]
}